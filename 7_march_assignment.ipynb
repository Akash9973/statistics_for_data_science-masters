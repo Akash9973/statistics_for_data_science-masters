{
 "cells": [
  {
   "cell_type": "markdown",
   "id": "c5f6a75b-a8d2-4652-9669-8726c7887b0d",
   "metadata": {},
   "source": [
    "### Q1. What are the three measures of central tendency?"
   ]
  },
  {
   "cell_type": "markdown",
   "id": "0bbee38d-0f03-400e-86c0-63cc79516560",
   "metadata": {},
   "source": [
    "The three measure of central tendency are:\n",
    "    mean\n",
    "    median \n",
    "    mode"
   ]
  },
  {
   "cell_type": "markdown",
   "id": "1b4d37f2-3f20-45cc-ba9a-c9fae03119f4",
   "metadata": {},
   "source": [
    "### Q2. What is the difference between the mean, median, and mode? How are they used to measure the central tendency of a dataset?\n"
   ]
  },
  {
   "cell_type": "markdown",
   "id": "1f5903b5-3142-45dc-a9d3-b4d6ad777a91",
   "metadata": {},
   "source": [
    "Mean is use to find the average of the dataset where as median is used to fidn the mid value of the dataset and mode is the higest frequency of the dataset"
   ]
  },
  {
   "cell_type": "markdown",
   "id": "12b61a81-fc1f-40c0-ba42-f6b746fc41d0",
   "metadata": {},
   "source": [
    "### Q3. Measure the three measures of central tendency for the given height data:\n",
    "[178,177,176,177,178.2,178,175,179,180,175,178.9,176.2,177,172.5,178,176.5]"
   ]
  },
  {
   "cell_type": "code",
   "execution_count": 1,
   "id": "1d027297-634c-411b-bd88-9f0b04e29cb2",
   "metadata": {},
   "outputs": [],
   "source": [
    "import numpy as np"
   ]
  },
  {
   "cell_type": "code",
   "execution_count": 2,
   "id": "d7873567-7b6d-49c0-9056-d86ff84f93f1",
   "metadata": {},
   "outputs": [],
   "source": [
    "a=[178,177,176,177,178.2,178,175,179,180,175,178.9,176.2,177,172.5,178,176.5]"
   ]
  },
  {
   "cell_type": "code",
   "execution_count": 4,
   "id": "f942ba4e-9ac3-4119-84e7-41b26eafad67",
   "metadata": {},
   "outputs": [
    {
     "data": {
      "text/plain": [
       "177.01875"
      ]
     },
     "execution_count": 4,
     "metadata": {},
     "output_type": "execute_result"
    }
   ],
   "source": [
    "np.mean(a)"
   ]
  },
  {
   "cell_type": "code",
   "execution_count": 5,
   "id": "462af858-eb11-46cf-a6f2-0847d49eeda3",
   "metadata": {},
   "outputs": [
    {
     "data": {
      "text/plain": [
       "177.0"
      ]
     },
     "execution_count": 5,
     "metadata": {},
     "output_type": "execute_result"
    }
   ],
   "source": [
    "np.median(a)"
   ]
  },
  {
   "cell_type": "code",
   "execution_count": 9,
   "id": "a114bfe9-de41-47b5-b490-68304936c939",
   "metadata": {},
   "outputs": [],
   "source": [
    "from scipy import stats"
   ]
  },
  {
   "cell_type": "code",
   "execution_count": 10,
   "id": "def9a163-52fa-41d4-9838-2f5a90febbb6",
   "metadata": {},
   "outputs": [
    {
     "name": "stderr",
     "output_type": "stream",
     "text": [
      "/tmp/ipykernel_3638/2714317682.py:1: FutureWarning: Unlike other reduction functions (e.g. `skew`, `kurtosis`), the default behavior of `mode` typically preserves the axis it acts along. In SciPy 1.11.0, this behavior will change: the default value of `keepdims` will become False, the `axis` over which the statistic is taken will be eliminated, and the value None will no longer be accepted. Set `keepdims` to True or False to avoid this warning.\n",
      "  stats.mode(a)\n"
     ]
    },
    {
     "data": {
      "text/plain": [
       "ModeResult(mode=array([177.]), count=array([3]))"
      ]
     },
     "execution_count": 10,
     "metadata": {},
     "output_type": "execute_result"
    }
   ],
   "source": [
    "stats.mode(a)"
   ]
  },
  {
   "cell_type": "markdown",
   "id": "2604cd8a-b9b3-45bc-ad50-4e4b00911ce4",
   "metadata": {},
   "source": [
    "### Q4. Find the standard deviation for the given data:\n",
    "[178,177,176,177,178.2,178,175,179,180,175,178.9,176.2,177,172.5,178,176.5]"
   ]
  },
  {
   "cell_type": "code",
   "execution_count": 11,
   "id": "5c3a9a44-64ec-4d27-8561-7af850f491b1",
   "metadata": {},
   "outputs": [],
   "source": [
    "b=[178,177,176,177,178.2,178,175,179,180,175,178.9,176.2,177,172.5,178,176.5]"
   ]
  },
  {
   "cell_type": "code",
   "execution_count": 14,
   "id": "6c467924-ec6f-4ee4-9d75-aab14e304dd7",
   "metadata": {},
   "outputs": [],
   "source": [
    "standard_deviation= np.std(b)"
   ]
  },
  {
   "cell_type": "code",
   "execution_count": 15,
   "id": "6c761d80-206c-4b23-9c2d-b5cb6a7c400a",
   "metadata": {},
   "outputs": [
    {
     "data": {
      "text/plain": [
       "1.7885814036548633"
      ]
     },
     "execution_count": 15,
     "metadata": {},
     "output_type": "execute_result"
    }
   ],
   "source": [
    "standard_deviation"
   ]
  },
  {
   "cell_type": "markdown",
   "id": "c2749254-f5e2-4df9-b006-6ec571d4ca78",
   "metadata": {},
   "source": [
    "### Q5. How are measures of dispersion such as range, variance, and standard deviation used to describe the spread of a dataset? Provide an example.\n"
   ]
  },
  {
   "cell_type": "markdown",
   "id": "70ca15ee-fa1f-4a8e-8bd6-486abd4f1af4",
   "metadata": {},
   "source": [
    "The measures such as range, variance, stddeviation is used to describe the measures of the spread of the dataset. It will tell that how the data is being spread or deviated from the mean value.\n",
    "\n",
    "Range gives us the idea that how the data is being spread between the minimum and the maximum value.for eg the temperature of the week is [18, 20, 22, 19, 23, 17, 21] . The range would be the difference between the highest and lowest temperatures: 23 - 17 = 6 degrees Celsius.\n",
    "\n",
    "variance is used to tell that how much the data is being spread and std deviation tells that how the data is being spread or deviated from the mean value."
   ]
  },
  {
   "cell_type": "markdown",
   "id": "a9308aba-2bf4-4661-9704-df521871252d",
   "metadata": {},
   "source": [
    "### Q6. What is a Venn diagram?"
   ]
  },
  {
   "cell_type": "markdown",
   "id": "cec7196b-657d-46e5-bca9-0407a896e887",
   "metadata": {},
   "source": [
    "Venn diagram  is a pictorical representation of a mathemmatical data which gives the relationship between the two or more datas"
   ]
  },
  {
   "cell_type": "markdown",
   "id": "ec3fcc70-baa8-453b-9101-7384fecfb680",
   "metadata": {},
   "source": [
    "### Q7. For the two given sets A = (2,3,4,5,6,7) & B = (0,2,6,8,10). Find:(i) A n B (ii) A ⋃ B\n",
    "\n"
   ]
  },
  {
   "cell_type": "markdown",
   "id": "0a54a8c0-6a12-4926-b46c-98fa48da6326",
   "metadata": {},
   "source": [
    "(A n B) = (2,6)\n",
    "\n",
    "(A U B) = (0,2,3,4,5,6,8,10)"
   ]
  },
  {
   "cell_type": "markdown",
   "id": "ad5313eb-376c-4bdf-82e0-0a3f8fc93a9e",
   "metadata": {},
   "source": [
    "### Q8. What do you understand about skewness in data?"
   ]
  },
  {
   "cell_type": "markdown",
   "id": "bec07ce0-40df-4e1b-9442-b4cbf4281737",
   "metadata": {},
   "source": [
    "Skewness will tell us how data is being distributed in a distribution."
   ]
  },
  {
   "cell_type": "markdown",
   "id": "00135f36-69b0-4098-87c2-09142b44418a",
   "metadata": {},
   "source": [
    "### Q9. If a data is right skewed then what will be the position of median with respect to mean?"
   ]
  },
  {
   "cell_type": "markdown",
   "id": "76999a4e-6326-4482-8580-6e03b01b5676",
   "metadata": {},
   "source": [
    "Median would lie to the left of mean . mean > median> mode"
   ]
  },
  {
   "cell_type": "markdown",
   "id": "fd335374-a947-4a59-a07c-1bf07355e1b4",
   "metadata": {},
   "source": [
    "### Q10. Explain the difference between covariance and correlation. How are these measures used in statistical analysis?\n"
   ]
  },
  {
   "cell_type": "markdown",
   "id": "fb160a48-83e0-4469-b931-cbcaa25c5dcf",
   "metadata": {},
   "source": [
    "Covariance is used to find out the relationship between two random variables whereas correlation is used to tell us that how data is being related.These measues used to find out the if any variable x changes then how other variable y changes. if x increases and y also increases then it is positively related, whereas if x increases and y decreases then it will be negatively related."
   ]
  },
  {
   "cell_type": "markdown",
   "id": "3ba1cc00-0663-43ec-a552-e29233827227",
   "metadata": {},
   "source": [
    "### Q11. What is the formula for calculating the sample mean? Provide an example calculation for a dataset\n"
   ]
  },
  {
   "cell_type": "markdown",
   "id": "b93366fe-735b-405a-9001-2e6747b1bb5f",
   "metadata": {},
   "source": [
    "mean =  (n1+n2+n3+n4+........nN)/N\n",
    "where\n",
    "n1,n2,n3.... -> values of dataset\n",
    "N= number of dataset\n",
    "\n",
    "eg data = [1,2,3,4,5,6,7,8,9]\n",
    "\n",
    "\n",
    "mean = (1+2+3+4+5+6+7+8+9)/9 = 45/9 = 5"
   ]
  },
  {
   "cell_type": "markdown",
   "id": "95190369-6d09-4441-bd09-f58fdecdb4b7",
   "metadata": {},
   "source": [
    "### Q12. For a normal distribution data what is the relationship between its measure of central tendency?"
   ]
  },
  {
   "cell_type": "markdown",
   "id": "e4dcbd43-5af3-4453-a67b-0c0c48335ae8",
   "metadata": {},
   "source": [
    "mean = median = mode, all the three values of a central tendency concides."
   ]
  },
  {
   "cell_type": "markdown",
   "id": "f3d55090-6460-4c7f-b516-dd13d0014d41",
   "metadata": {},
   "source": [
    "### Q13. How is covariance different from correlation?"
   ]
  },
  {
   "cell_type": "markdown",
   "id": "56ce4526-4469-4eff-aae5-d18baab6c325",
   "metadata": {},
   "source": [
    "In covariance we cant tell that one data is more related to than other. It only tell that data is positively related or not. whereas in correlation we can able to to tell that one data is more correlated than the other. for example if there is 3 data x,y,z and covarance of x and y is 80 ,and x and z is 200 so it do not mean that x is more related to z as compared to y. But this is not happen in correlation here the value of corrlatio "
   ]
  },
  {
   "cell_type": "markdown",
   "id": "4fe12b79-92b4-43da-902b-6b9a3ade817f",
   "metadata": {},
   "source": [
    "### Q14. How do outliers affect measures of central tendency and dispersion? Provide an example."
   ]
  },
  {
   "cell_type": "markdown",
   "id": "a1857ba7-1823-4fa4-b807-82cc448126d5",
   "metadata": {},
   "source": [
    "outlier are those values in dataset which is different from that of other dataset.\n",
    "for eg "
   ]
  },
  {
   "cell_type": "code",
   "execution_count": 2,
   "id": "4957787f-5e22-497d-89cf-cf382d19b65c",
   "metadata": {},
   "outputs": [],
   "source": [
    "import numpy as np"
   ]
  },
  {
   "cell_type": "code",
   "execution_count": 3,
   "id": "f727d3c7-1be8-472f-adbc-6cf32b6779cf",
   "metadata": {},
   "outputs": [],
   "source": [
    "l=[1,2,3,4,5,6,6,7,8]"
   ]
  },
  {
   "cell_type": "code",
   "execution_count": 4,
   "id": "7861bc0f-ebdd-4907-8244-5cde4c5a5a3f",
   "metadata": {},
   "outputs": [
    {
     "data": {
      "text/plain": [
       "4.666666666666667"
      ]
     },
     "execution_count": 4,
     "metadata": {},
     "output_type": "execute_result"
    }
   ],
   "source": [
    "np.mean(l)"
   ]
  },
  {
   "cell_type": "markdown",
   "id": "f4f45939-0f09-4f21-b642-c269a92575b3",
   "metadata": {},
   "source": [
    "if we add a number like 100 in the dataset which is highly greater than those of data set in l\n",
    "l=[1,2,3,4,5,6,6,7,8,100] then\n"
   ]
  },
  {
   "cell_type": "code",
   "execution_count": 7,
   "id": "84f968cf-bb1d-493b-80eb-8ffeb65bc31b",
   "metadata": {},
   "outputs": [
    {
     "data": {
      "text/plain": [
       "14.2"
      ]
     },
     "execution_count": 7,
     "metadata": {},
     "output_type": "execute_result"
    }
   ],
   "source": [
    "l=[1,2,3,4,5,6,6,7,8,100]\n",
    "np.mean(l)"
   ]
  },
  {
   "cell_type": "markdown",
   "id": "c61be551-6238-4686-a027-6353bdd8d71e",
   "metadata": {},
   "source": [
    "mean value changes from 4 to 14.This way dataset is "
   ]
  }
 ],
 "metadata": {
  "kernelspec": {
   "display_name": "Python 3 (ipykernel)",
   "language": "python",
   "name": "python3"
  },
  "language_info": {
   "codemirror_mode": {
    "name": "ipython",
    "version": 3
   },
   "file_extension": ".py",
   "mimetype": "text/x-python",
   "name": "python",
   "nbconvert_exporter": "python",
   "pygments_lexer": "ipython3",
   "version": "3.10.8"
  }
 },
 "nbformat": 4,
 "nbformat_minor": 5
}
