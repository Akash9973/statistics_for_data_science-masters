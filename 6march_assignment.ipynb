{
 "cells": [
  {
   "cell_type": "markdown",
   "id": "f8970a85-e671-48c7-9457-db9b1d95ba10",
   "metadata": {},
   "source": [
    "### Q1. What is Statistics?"
   ]
  },
  {
   "cell_type": "markdown",
   "id": "ed510c74-86db-4cd0-ab95-248aae8bcdd6",
   "metadata": {},
   "source": [
    "Statistics is a branch of mathematics in which we study collection of datas, organises and analysis of data.It is a science of studying data and gives desired result."
   ]
  },
  {
   "cell_type": "markdown",
   "id": "055c42f8-059b-4ee2-a0d9-5ba98429a549",
   "metadata": {},
   "source": [
    "### Q2. Define the different types of statistics and give an example of when each type might be used."
   ]
  },
  {
   "cell_type": "markdown",
   "id": "5d9648ee-a127-4eba-9468-9936d7afd52e",
   "metadata": {},
   "source": [
    "Statistics are generally of two types \n",
    "1. Inferencial statistics\n",
    "2. Descriptive Statistics\n",
    "\n",
    "Descriptive Statistics -> Descriptive Statistics consists of organizing and summarizing of data. for eg.  in a class of students data of height of the students are given [163,165,170,175,166,164,150,160] . In the above data we can able to calculate the average height, median , frequency , vairance etc. This is called descriptive statistics.\n",
    "\n",
    "Inferencial statistics -> Inferencial statistics deals with getting conclusion  from the population data. for example if a average height of the village is found to be 160 cm. if the sample of 30 person is taken and calculated the average of them it find to be 165cm. then if we conclude that the height of the village is different from that of sample by using different hypothesis testing then it is considered as inferencial statistics  "
   ]
  },
  {
   "cell_type": "markdown",
   "id": "73c4db73-7fb9-4ec4-844f-e526ba725028",
   "metadata": {},
   "source": [
    "### Q3. What are the different types of data and how do they differ from each other? Provide an example of each type of data.\n"
   ]
  },
  {
   "cell_type": "markdown",
   "id": "655978c6-6b11-4c47-9d3b-b572833e8e8e",
   "metadata": {},
   "source": [
    "There are two types of data \n",
    "1. Quantitive data\n",
    "2. Qualitative data\n",
    "\n",
    "Quantative data -> it refers to those types of data in which we perform mathematical operations \n",
    "quantative data is also of 2 types \n",
    "1. discrete types -> it consist of whole number. eg. roll number , number of children in class\n",
    "2. continuous types -> it is any value. eg height of the student, temperature.\n",
    "\n",
    "\n",
    "Qualitativa data -> it refers to those types of data which is generally categorical data\n",
    "Qualitativa data is also of 2 types \n",
    "1. Nominal data -> Nominal data are those data which refers to categorical form where orderdo not matters. eg. color, gender etc\n",
    "2. ordinal data -> It refers to those types of data where ranking and order matter for eg. quallification of a student. "
   ]
  },
  {
   "cell_type": "markdown",
   "id": "bcdace11-5029-4792-80ce-2cd9e09c77f4",
   "metadata": {},
   "source": [
    "### Q4. Categorise the following datasets with respect to quantitative and qualitative data types:\n",
    "### (i) Grading in exam: A+, A, B+, B, C+, C, D, E\n",
    "### (ii) Colour of mangoes: yellow, green, orange, red\n",
    "### (iii) Height data of a class: [178.9, 179, 179.5, 176, 177.2, 178.3, 175.8,...]\n",
    "### (iv) Number of mangoes exported by a farm: [500, 600, 478, 672, ...]"
   ]
  },
  {
   "cell_type": "markdown",
   "id": "8b4907df-9c70-40b1-897f-87d8d6b1699b",
   "metadata": {},
   "source": [
    "(i) Qualitative data types\n",
    "(ii) Qualitative data types \n",
    "(iv) Quantative data types\n",
    "(v) Quantative data types"
   ]
  },
  {
   "cell_type": "markdown",
   "id": "5dda4cc2-66ca-4f75-9429-0e40972de400",
   "metadata": {},
   "source": [
    "### Q5. Explain the concept of levels of measurement and give an example of a variable for each level."
   ]
  },
  {
   "cell_type": "markdown",
   "id": "af8ff92d-36cb-4e3c-b13b-294a350e5fad",
   "metadata": {},
   "source": [
    "Levels of measurement is also known as scale of measurement is used to find out how precisely the data is being recorded.\n",
    "The different types of level of measurements are\n",
    "1.Nominal scale data ->  here the order of the data do not matters. eg. gender do not have any rank, lets consider another example in a class of 10 people chooses different color balls. 5 people chooses red 3 blue and 2 green here which people chooses which color color ball are not ranked on that basis.\n",
    "\n",
    "2.ordinal scale data -> here the order or rank matters. but the difference between the two entities cannot be measured. for example in a list of degrees [phd,masters,baechlor,intermediate,matriculate] here phd is considered as the highest ranking whereas matriculation is considered as the lowest among all.  but in this we unable to find out difference between two entities \n",
    "\n",
    "3.Interval scale data -> In an interval scale data the rank and order of the data matters. Also we can able to measure the difference between the two datas. It do not have 0 starting value. eg. in a temperature we can measure difference between 2 temperature also its startting value is not 0.\n",
    "\n",
    "4.Ratio scale data -> ratio scale data has 0 starting value. here rank and orders matters and we can also measure the difference between two datas.eg grades of the students in class."
   ]
  },
  {
   "cell_type": "markdown",
   "id": "76d2ce9c-3350-4384-bc2b-964095c68935",
   "metadata": {},
   "source": [
    "### Q6. Why is it important to understand the level of measurement when analyzing data? Provide an example to illustrate your answer.\n"
   ]
  },
  {
   "cell_type": "markdown",
   "id": "16f295ec-7b8a-4e54-b63d-40233f3dc9e4",
   "metadata": {},
   "source": [
    "because the level of measurement determines the type of statistical analysis that can be conducted, and, therefore, the type of conclusions that can be drawn from the research. for different types of data we perform different analysis so before performing any operations is is very very important to categorise the data "
   ]
  },
  {
   "cell_type": "markdown",
   "id": "e781feaa-77bf-4333-9584-4f84329948e7",
   "metadata": {},
   "source": [
    "### Q7. How nominal data type is different from ordinal data type."
   ]
  },
  {
   "cell_type": "markdown",
   "id": "5d8e6485-1fc8-4ef4-90e3-bee950f82ee2",
   "metadata": {},
   "source": [
    "1. Nominal data -> Nominal data are those data which refers to categorical form where orderdo not matters. eg. color, gender etc\n",
    "2. ordinal data -> It refers to those types of data where ranking and order matter for eg. quallification of a student"
   ]
  },
  {
   "cell_type": "markdown",
   "id": "f27d3afb-0813-48db-8a1b-450a84b9e2a3",
   "metadata": {},
   "source": [
    "### Q8. Which type of plot can be used to display data in terms of range?"
   ]
  },
  {
   "cell_type": "markdown",
   "id": "da28f2a8-5576-466f-a0a4-68d6692b31bd",
   "metadata": {},
   "source": [
    "histogram"
   ]
  },
  {
   "cell_type": "markdown",
   "id": "5f705c8b-3ca0-45b4-a06f-750c2a4a957e",
   "metadata": {},
   "source": [
    "### Q9. Describe the difference between descriptive and inferential statistics. Give an example of each type of statistics and explain how they are used.\n"
   ]
  },
  {
   "cell_type": "markdown",
   "id": "a20c67c2-62fa-425d-b0de-dab084e7529d",
   "metadata": {},
   "source": [
    "Descriptive Statistics -> Descriptive Statistics consists of organizing and summarizing of data. for eg.  in a class of students data of height of the students are given [163,165,170,175,166,164,150,160] . In the above data we can able to calculate the average height, median , frequency , vairance etc. This is called descriptive statistics.\n",
    "\n",
    "Inferencial statistics -> Inferencial statistics deals with getting conclusion  from the population data. for example if a average height of the village is found to be 160 cm. if the sample of 30 person is taken and calculated the average of them it find to be 165cm. then if we conclude that the height of the village is different from that of sample by using different hypothesis testing then it is considered as inferencial statistics  "
   ]
  },
  {
   "cell_type": "markdown",
   "id": "7744977f-1ac2-4118-b805-a8c5a1820b1e",
   "metadata": {},
   "source": [
    "### Q10. What are some common measures of central tendency and variability used in statistics? Explain how each measure can be used to describe a dataset.\n"
   ]
  },
  {
   "cell_type": "markdown",
   "id": "c811c266-af1b-4f2a-b9d4-030edb34ffa5",
   "metadata": {},
   "source": [
    "common measures of central tendency are mean,median,mode \n",
    "variability are variance and standard devaition\n",
    "central tendency is used to measure the average value of dataset, mid value and frequency \n",
    "va"
   ]
  },
  {
   "cell_type": "code",
   "execution_count": null,
   "id": "ac0619d2-535c-45c7-b80a-ed5eb393726e",
   "metadata": {},
   "outputs": [],
   "source": []
  }
 ],
 "metadata": {
  "kernelspec": {
   "display_name": "Python 3 (ipykernel)",
   "language": "python",
   "name": "python3"
  },
  "language_info": {
   "codemirror_mode": {
    "name": "ipython",
    "version": 3
   },
   "file_extension": ".py",
   "mimetype": "text/x-python",
   "name": "python",
   "nbconvert_exporter": "python",
   "pygments_lexer": "ipython3",
   "version": "3.10.8"
  }
 },
 "nbformat": 4,
 "nbformat_minor": 5
}
